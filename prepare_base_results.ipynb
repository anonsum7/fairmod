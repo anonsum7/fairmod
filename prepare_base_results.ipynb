{
 "cells": [
  {
   "cell_type": "code",
   "execution_count": 7,
   "metadata": {},
   "outputs": [],
   "source": [
    "import pickle"
   ]
  },
  {
   "cell_type": "code",
   "execution_count": 8,
   "metadata": {},
   "outputs": [],
   "source": [
    "# replace with the corresponding paths\n",
    "\n",
    "with open('./results/<regard_map_location>.pkl', 'rb') as handle:\n",
    "    regard_map = pickle.load(handle)\n",
    "\n",
    "\n",
    "with open('./results/<openai_moderation_path>.pkl', 'rb') as handle:\n",
    "    moderation_map_openai = pickle.load(handle)\n",
    "\n",
    "with open('./results/<uniformly_random_baseline>.pkl', 'rb') as handle:\n",
    "    moderation_map_unirand = pickle.load(handle)\n",
    "\n",
    "with open('./results/<clarifai_moderation_path>.pkl', 'rb') as handle:\n",
    "    moderation_map_clarifai = pickle.load(handle)\n",
    "\n",
    "with open('./results/<google_perspective_moderation_path>.pkl', 'rb') as handle:\n",
    "    moderation_map_perspective = pickle.load(handle)\n",
    "\n",
    "with open('./results/<google_palm_moderation_path>.pkl', 'rb') as handle:\n",
    "    moderation_map_google = pickle.load(handle)"
   ]
  },
  {
   "cell_type": "code",
   "execution_count": 10,
   "metadata": {},
   "outputs": [
    {
     "name": "stdout",
     "output_type": "stream",
     "text": [
      "20\n"
     ]
    }
   ],
   "source": [
    "# uncomment if processing raw moderation results\n",
    "import utils\n",
    "moderation_map_openai = utils.process_openai(moderation_map_openai)\n",
    "moderation_map_clarifai = utils.process_clarifai(moderation_map_clarifai)\n",
    "moderation_map_perspective = utils.process_perspective(moderation_map_perspective)\n",
    "moderation_map_google = utils.process_google(moderation_map_google)"
   ]
  },
  {
   "cell_type": "code",
   "execution_count": 11,
   "metadata": {},
   "outputs": [],
   "source": [
    "all_keys = set(key for d in [moderation_map_openai, moderation_map_perspective, moderation_map_google, moderation_map_clarifai] for key in d.keys())\n",
    "\n",
    "combined_dict = {}\n",
    "\n",
    "for key in all_keys:\n",
    "    combined_dict[key] = {\n",
    "                'unirand': moderation_map_unirand.get(key, 'NULL'),\n",
    "                'openai': moderation_map_openai.get(key, 'NULL'),\n",
    "                'clarifai': moderation_map_clarifai.get(key, 'NULL'),\n",
    "                'perspective': moderation_map_perspective.get(key, 'NULL'),\n",
    "                'google': moderation_map_google.get(key, 'NULL'),\n",
    "                'regard': regard_map.get(key, 'NULL')\n",
    "            }"
   ]
  },
  {
   "cell_type": "code",
   "execution_count": 12,
   "metadata": {},
   "outputs": [],
   "source": [
    "with open('./results/moderation_results.pkl', 'wb') as handle:\n",
    "    pickle.dump(combined_dict, handle, protocol=pickle.HIGHEST_PROTOCOL)"
   ]
  }
 ],
 "metadata": {
  "kernelspec": {
   "display_name": "fairmod",
   "language": "python",
   "name": "python3"
  },
  "language_info": {
   "codemirror_mode": {
    "name": "ipython",
    "version": 3
   },
   "file_extension": ".py",
   "mimetype": "text/x-python",
   "name": "python",
   "nbconvert_exporter": "python",
   "pygments_lexer": "ipython3",
   "version": "3.10.14"
  }
 },
 "nbformat": 4,
 "nbformat_minor": 2
}
