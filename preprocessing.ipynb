{
 "cells": [
  {
   "cell_type": "code",
   "execution_count": 50,
   "metadata": {},
   "outputs": [],
   "source": [
    "import pandas as pd\n",
    "import utils\n",
    "import numpy as np\n",
    "import math\n",
    "from tqdm import tqdm"
   ]
  },
  {
   "cell_type": "markdown",
   "metadata": {},
   "source": [
    "#### Jigsaw Subsets"
   ]
  },
  {
   "cell_type": "code",
   "execution_count": 51,
   "metadata": {},
   "outputs": [],
   "source": [
    "from datasets import load_dataset, concatenate_datasets\n",
    "\n",
    "dataset = load_dataset(\"google/jigsaw_unintended_bias\", data_dir='../jigsaw-unintended-bias-in-toxicity-classification/')\n",
    "dataset = concatenate_datasets([dataset[\"train\"], dataset[\"test_private_leaderboard\"], dataset[\"test_public_leaderboard\"]])"
   ]
  },
  {
   "cell_type": "code",
   "execution_count": 52,
   "metadata": {},
   "outputs": [],
   "source": [
    "# gender based subset\n",
    "gender_features = ['male', 'female', 'transgender', 'other_gender']\n",
    "# race based subset\n",
    "race_features = ['asian', 'black', 'latino', 'white', 'other_race_or_ethnicity']\n",
    "# disability based subset\n",
    "disability_features = ['intellectual_or_learning_disability', 'physical_disability', 'psychiatric_or_mental_illness', 'other_disability']\n",
    "# sexual orientation subset\n",
    "sexual_orientation_features = ['heterosexual', 'homosexual_gay_or_lesbian', 'bisexual', 'other_sexual_orientation']\n",
    "\n",
    "features = gender_features + race_features + disability_features + sexual_orientation_features"
   ]
  },
  {
   "cell_type": "code",
   "execution_count": null,
   "metadata": {},
   "outputs": [],
   "source": [
    "import ast\n",
    "import json\n",
    "samples = []\n",
    "for sample in tqdm(dataset):\n",
    "    scores = {feature: sample[feature] for feature in features if sample[feature] > 0.0}\n",
    "    if len(scores) == 1:\n",
    "        samples += [[sample['comment_text'], list(scores.keys())[0], sample['target'], sample['rating']]]\n",
    "\n",
    "columns = ['text', 'label', 'toxicity', 'approval']\n",
    "dataset = pd.DataFrame(samples, columns=columns)"
   ]
  },
  {
   "cell_type": "code",
   "execution_count": null,
   "metadata": {},
   "outputs": [],
   "source": [
    "dataset.to_csv('./data/jigsaw/main.csv', index=False)\n",
    "dataset.head(), len(dataset)"
   ]
  },
  {
   "cell_type": "code",
   "execution_count": 55,
   "metadata": {},
   "outputs": [],
   "source": [
    "def save_dataset(name, groups):\n",
    "        subset=dataset.copy()\n",
    "        subset = subset[subset['label'].isin(groups)]\n",
    "        subset.to_csv(f'./data/jigsaw/{name}.csv')"
   ]
  },
  {
   "cell_type": "code",
   "execution_count": 56,
   "metadata": {},
   "outputs": [],
   "source": [
    "# select\n",
    "labels = [gender_features, race_features, disability_features, sexual_orientation_features]\n",
    "names = ['gender', 'race', 'disability', 'sexual_orientation']\n",
    "for groups, name in zip(labels, names):\n",
    "    save_dataset(name, groups)"
   ]
  },
  {
   "cell_type": "markdown",
   "metadata": {},
   "source": [
    "#### Ideology Labeled Data"
   ]
  },
  {
   "cell_type": "code",
   "execution_count": 57,
   "metadata": {},
   "outputs": [],
   "source": [
    "ideology_df = pd.read_csv('./data/processed_annotated_comments.csv')\n",
    "ideology_df['label'] = ideology_df['label'].apply(lambda x: None if x not in ['left', 'right'] else x)\n",
    "ideology_df.dropna(inplace=True)"
   ]
  },
  {
   "cell_type": "code",
   "execution_count": null,
   "metadata": {},
   "outputs": [],
   "source": [
    "comments = dataset['text'].tolist() + ideology_df['text'].tolist()\n",
    "len(comments)"
   ]
  },
  {
   "cell_type": "code",
   "execution_count": 59,
   "metadata": {},
   "outputs": [],
   "source": [
    "import pickle\n",
    "with open('./data/comments.pkl', 'wb') as handle:\n",
    "    pickle.dump(comments, handle, protocol=pickle.HIGHEST_PROTOCOL)"
   ]
  }
 ],
 "metadata": {
  "kernelspec": {
   "display_name": "mod",
   "language": "python",
   "name": "python3"
  },
  "language_info": {
   "codemirror_mode": {
    "name": "ipython",
    "version": 3
   },
   "file_extension": ".py",
   "mimetype": "text/x-python",
   "name": "python",
   "nbconvert_exporter": "python",
   "pygments_lexer": "ipython3",
   "version": "3.10.14"
  }
 },
 "nbformat": 4,
 "nbformat_minor": 2
}
