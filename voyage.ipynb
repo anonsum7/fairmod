{
 "cells": [
  {
   "cell_type": "code",
   "execution_count": null,
   "metadata": {},
   "outputs": [],
   "source": [
    "import requests\n",
    "import os\n",
    "import json\n",
    "\n",
    "VOYAGE_API_KEY = os.getenv('VOYAGE_API_KEY', 'your_api_key_here')\n",
    "\n",
    "url = 'https://api.voyageai.com/v1/embeddings'\n",
    "headers = {\n",
    "    'Authorization': f'Bearer {VOYAGE_API_KEY}',\n",
    "    'Content-Type': 'application/json'\n",
    "}"
   ]
  },
  {
   "cell_type": "code",
   "execution_count": null,
   "metadata": {},
   "outputs": [],
   "source": [
    "import pickle\n",
    "with open('./data/comments.pkl', 'rb') as handle:\n",
    "    comments = (list(set(pickle.load(handle))))"
   ]
  },
  {
   "cell_type": "code",
   "execution_count": null,
   "metadata": {},
   "outputs": [],
   "source": [
    "from tqdm import tqdm\n",
    "def chunker(seq, size):\n",
    "    return (seq[pos:pos + size] for pos in range(0, len(seq), size))\n",
    "\n",
    "comment_embedding_map = {}\n",
    "for chunk in tqdm(chunker(comments,128)):\n",
    "    data = {\n",
    "        \"input\": chunk,\n",
    "        \"model\": \"voyage-large-2-instruct\"\n",
    "    }\n",
    "    try:\n",
    "        response = requests.post(url, headers=headers, data=json.dumps(data))\n",
    "        results = response.json()\n",
    "\n",
    "        for i, text in enumerate(chunk):\n",
    "            comment_embedding_map[text] = results['data'][i]['embedding']\n",
    "    except Exception as e:\n",
    "        print(e)\n",
    "        for i, text in enumerate(chunk):\n",
    "            comment_embedding_map[text] = None"
   ]
  },
  {
   "cell_type": "code",
   "execution_count": null,
   "metadata": {},
   "outputs": [],
   "source": [
    "with open('./data/comments_embeddings_voyage_ai.pkl', 'wb') as handle:\n",
    "    pickle.dump(comment_embedding_map, handle, protocol=pickle.HIGHEST_PROTOCOL)"
   ]
  }
 ],
 "metadata": {
  "kernelspec": {
   "display_name": "mod",
   "language": "python",
   "name": "python3"
  },
  "language_info": {
   "codemirror_mode": {
    "name": "ipython",
    "version": 3
   },
   "file_extension": ".py",
   "mimetype": "text/x-python",
   "name": "python",
   "nbconvert_exporter": "python",
   "pygments_lexer": "ipython3",
   "version": "3.11.8"
  }
 },
 "nbformat": 4,
 "nbformat_minor": 2
}
