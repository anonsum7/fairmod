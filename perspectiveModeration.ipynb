{
 "cells": [
  {
   "cell_type": "code",
   "execution_count": null,
   "metadata": {},
   "outputs": [],
   "source": [
    "from multiprocessing import Manager\n",
    "from threading import Thread\n",
    "import pickle\n",
    "import json\n",
    "from googleapiclient import discovery\n",
    "\n",
    "manager = Manager()"
   ]
  },
  {
   "cell_type": "code",
   "execution_count": null,
   "metadata": {},
   "outputs": [],
   "source": [
    "# Replace with your Google API key\n",
    "GOOGLE_API_KEY = '<enter api key here>'\n",
    "\n",
    "# Define the URL for the Google Cloud Natural Language API\n",
    "url = \"https://language.googleapis.com/v2/documents:moderateText\"\n",
    "\n",
    "client = discovery.build(\n",
    "  \"commentanalyzer\",\n",
    "  \"v1alpha1\",\n",
    "  developerKey=GOOGLE_API_KEY,\n",
    "  discoveryServiceUrl=\"https://commentanalyzer.googleapis.com/$discovery/rest?version=v1alpha1\",\n",
    "  static_discovery=False,\n",
    ")\n",
    "\n",
    "analyze_request = {\n",
    "  'comment': { 'text': 'friendly greetings from python' },\n",
    "  'requestedAttributes': {'TOXICITY': {}}\n",
    "}"
   ]
  },
  {
   "cell_type": "code",
   "execution_count": null,
   "metadata": {},
   "outputs": [],
   "source": [
    "# load data\n",
    "with open('./data/comments.pkl', 'rb') as handle:\n",
    "    comments = pickle.load(handle)\n",
    "\n",
    "comments = list(set(comments))"
   ]
  },
  {
   "cell_type": "code",
   "execution_count": null,
   "metadata": {},
   "outputs": [],
   "source": [
    "moderation_map = manager.dict()\n",
    "\n",
    "def moderation(local_dictionary, texts):\n",
    "    for comment in texts:\n",
    "      response = ''\n",
    "      while response == '':\n",
    "          # try catch to ensure outputs are obtained\n",
    "          try:\n",
    "              response = client.comments().analyze(body=analyze_request).execute()\n",
    "              local_dictionary[comment] = json.dumps(response, indent=2)\n",
    "          except Exception as e:\n",
    "            print(e)\n",
    "            response = ''"
   ]
  },
  {
   "cell_type": "code",
   "execution_count": null,
   "metadata": {},
   "outputs": [],
   "source": [
    "num_threads = 4\n",
    "threads = []\n",
    "for i in range(0, num_threads):\n",
    "    start = i * (len(comments) // num_threads)\n",
    "    end = (i + 1) * (len(comments) // num_threads) if i != num_threads - 1 else len(comments)\n",
    "    thread = Thread(target=moderation,args=(moderation_map, comments[start:end], ))\n",
    "    threads += [thread]\n",
    "    thread.start()\n",
    "\n",
    "for thread in threads:\n",
    "    thread.join()"
   ]
  },
  {
   "cell_type": "code",
   "execution_count": null,
   "metadata": {},
   "outputs": [],
   "source": [
    "moderation_map = dict(moderation_map)\n",
    "with open('./results/comments_moderation_google_perspective.pkl', 'wb') as handle:\n",
    "    pickle.dump(moderation_map, handle, protocol=pickle.HIGHEST_PROTOCOL)"
   ]
  }
 ],
 "metadata": {
  "kernelspec": {
   "display_name": "mod",
   "language": "python",
   "name": "python3"
  },
  "language_info": {
   "codemirror_mode": {
    "name": "ipython",
    "version": 3
   },
   "file_extension": ".py",
   "mimetype": "text/x-python",
   "name": "python",
   "nbconvert_exporter": "python",
   "pygments_lexer": "ipython3",
   "version": "3.11.8"
  }
 },
 "nbformat": 4,
 "nbformat_minor": 2
}
