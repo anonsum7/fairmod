{
 "cells": [
  {
   "cell_type": "code",
   "execution_count": null,
   "metadata": {},
   "outputs": [],
   "source": [
    "import requests\n",
    "\n",
    "# Replace with your Google API key\n",
    "GOOGLE_API_KEY = '<enter your google api key here>'\n",
    "\n",
    "# Define the URL for the Google Cloud Natural Language API\n",
    "url = \"https://language.googleapis.com/v2/documents:moderateText\"\n",
    "\n",
    "# Set the headers with the Google API key and content type\n",
    "headers = {\n",
    "    \"X-Goog-Api-Key\": GOOGLE_API_KEY,\n",
    "    \"Content-Type\": \"application/json\",\n",
    "}"
   ]
  },
  {
   "cell_type": "code",
   "execution_count": null,
   "metadata": {},
   "outputs": [],
   "source": [
    "from multiprocessing import Manager\n",
    "from threading import Thread\n",
    "from time import sleep\n",
    "\n",
    "manager = Manager()\n",
    "\n",
    "from tqdm import tqdm\n",
    "import pickle\n",
    "\n",
    "with open('./results/comments.pkl', 'rb') as handle:\n",
    "    comments = pickle.load(handle)\n",
    "\n",
    "comments = list(set(comments.values()))\n",
    "\n",
    "moderation_map = manager.dict()\n",
    "\n",
    "def moderation(local_dictionary, texts):\n",
    "    for comment in tqdm(texts):\n",
    "        try:\n",
    "            # Define the JSON data to send in the request\n",
    "            data = {\n",
    "                \"document\": {\n",
    "                    \"content\": comment,\n",
    "                    \"type\": \"PLAIN_TEXT\",\n",
    "                }\n",
    "            }\n",
    "\n",
    "            # Make the POST request to the API\n",
    "            response = requests.post(url, headers=headers, json=data)\n",
    "\n",
    "            local_dictionary[comment] = response.json()\n",
    "\n",
    "        except Exception as e:\n",
    "            local_dictionary[comment] = None"
   ]
  },
  {
   "cell_type": "code",
   "execution_count": null,
   "metadata": {},
   "outputs": [],
   "source": [
    "num_threads = 5\n",
    "threads = []\n",
    "for i in range(0, num_threads):\n",
    "    start = i * (len(comments) // num_threads)\n",
    "    end = (i + 1) * (len(comments) // num_threads) if i != num_threads - 1 else len(comments)\n",
    "    thread = Thread(target=moderation,args=(moderation_map, comments[start:end], ))\n",
    "    threads += [thread]\n",
    "    thread.start()\n",
    "\n",
    "for thread in threads:\n",
    "    thread.join()"
   ]
  },
  {
   "cell_type": "code",
   "execution_count": null,
   "metadata": {},
   "outputs": [],
   "source": [
    "with open('./results/comments_moderation_google_palm.pkl', 'wb') as handle:\n",
    "    pickle.dump(dict(moderation_map), handle, protocol=pickle.HIGHEST_PROTOCOL)"
   ]
  }
 ],
 "metadata": {
  "language_info": {
   "name": "python"
  }
 },
 "nbformat": 4,
 "nbformat_minor": 2
}
